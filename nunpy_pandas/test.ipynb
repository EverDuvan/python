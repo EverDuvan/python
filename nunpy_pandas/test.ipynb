{
 "cells": [
  {
   "cell_type": "code",
   "execution_count": 1,
   "metadata": {},
   "outputs": [],
   "source": [
    "import pandas as pd \n",
    "import openpyxl"
   ]
  },
  {
   "cell_type": "code",
   "execution_count": 13,
   "metadata": {},
   "outputs": [
    {
     "name": "stdout",
     "output_type": "stream",
     "text": [
      "DF1\n",
      "  col1 col2  col3 valor\n",
      "0    4    4     1     1\n",
      "1    2    5     2     2\n",
      "2    3    6     3     3\n",
      "3    A    B     4     A\n",
      "4    C    D     5     C\n",
      "DF2\n",
      "  col1 col2 col3\n",
      "0    1    4    1\n",
      "1    2    5    2\n",
      "2    3    6    3\n",
      "3    4    7    A\n",
      "4    D    D    C\n",
      "DF3\n",
      "col1     A\n",
      "col2     B\n",
      "col3     4\n",
      "valor    A\n",
      "Name: 3, dtype: object\n"
     ]
    }
   ],
   "source": [
    "# dataframe1\n",
    "df1 = pd.DataFrame({'col1': [4, 2, 3,'A','C'], 'col2': [4, 5, 6,'B','D'] , 'col3': [1, 2, 3, 4, 5], 'valor': [1, 2, 3,'A','C']})\n",
    "print ('DF1')\n",
    "print(df1)\n",
    "# dataframe2\n",
    "df2 = pd.DataFrame({'col1': [1, 2, 3, 4,'D'], 'col2': [4, 5, 6, 7,'D'], 'col3': [1, 2, 3,'A','C']})\n",
    "print ('DF2')\n",
    "print(df2)\n",
    "\n",
    "df3 = df1.loc[3]\n",
    "print ('DF3')\n",
    "print(df3)\n",
    "\n",
    "raw20 = 'raw_scrap20.xlsx'\n",
    "raw28 = 'raw_scrap28.xlsx'"
   ]
  },
  {
   "cell_type": "code",
   "execution_count": 19,
   "metadata": {},
   "outputs": [],
   "source": [
    "def xltodf(xlsxfile):\n",
    "    df = pd.read_excel(xlsxfile , engine='openpyxl', na_filter = False)\n",
    "    #print (f'cantidad datos en {xlsxfile} : {len(df)}')\n",
    "    #print (df)\n",
    "    return df\n",
    "\n",
    "def df_2_xl(df,table):\n",
    "    full_path = f'{table}.xlsx'\n",
    "    with pd.ExcelWriter(full_path, engine='openpyxl') as writer:\n",
    "        df.to_excel(writer,index=False)"
   ]
  },
  {
   "cell_type": "code",
   "execution_count": 21,
   "metadata": {},
   "outputs": [],
   "source": [
    "x = xltodf(raw20)\n",
    "y = xltodf(raw28)"
   ]
  },
  {
   "cell_type": "code",
   "execution_count": 22,
   "metadata": {},
   "outputs": [
    {
     "name": "stdout",
     "output_type": "stream",
     "text": [
      "cantidad datos en filtro : 5\n",
      "filtro :    ROW_ID     URL  CYCLE_ID    ID PAIS      CATEGORIA          SUBCATEGORIA  \\\n",
      "2       3    tree         0  None  USA  ELECTRO HOGAR  AIRES ACONDICIONADOS   \n",
      "3       4    four         0  None  USA      TELEFONIA             CELULARES   \n",
      "4       5       5         0  None  USA      TELEFONIA             CELULARES   \n",
      "5       6     six         0  None  USA  ELECTRO HOGAR  AIRES ACONDICIONADOS   \n",
      "6       7  seven          0  None  USA      TELEFONIA             CELULARES   \n",
      "\n",
      "                   RETAILER       MARCA MODELO_RETAILER  ... SEGMENTO5  \\\n",
      "2  ST LOUIS APPLIANCE OULET  FRIGIDAIRE      FFRH0822R1  ...             \n",
      "3               CELLULARONE     ALCATEL               1  ...             \n",
      "4               CELLULARONE       APPLE       iphone-13  ...             \n",
      "5  ST LOUIS APPLIANCE OULET  FRIGIDAIRE      FFRA1211R1  ...             \n",
      "6               CELLULARONE       APPLE       iphone-12  ...             \n",
      "\n",
      "                                        DESCRIPTIONB  \\\n",
      "2  Frigidaire 8,000 BTU Window Air Conditioner wi...   \n",
      "3                                          Alcatel 1   \n",
      "4                                          iPhone 13   \n",
      "5  Frigidaire 12,000 BTU Window Air Conditioner -...   \n",
      "6                                          iPhone 12   \n",
      "\n",
      "                                        DESCRIPTIONF    PRICE  \\\n",
      "2  Frigidaire FFRH0822R1 8,000 BTU Window Air Con...    $ 427   \n",
      "3  Brand Alcatel, Screen Size 5 IPS Display, Came...  $ 89.99   \n",
      "4  Brand Apple, Camera 12 MP, f/1.6, 26mm (wide),...  $ 1,008   \n",
      "5  Frigidaire FFRA1211R1 12,000 BTU Window Air Co...    $ 297   \n",
      "6  Brand Apple, Camera 12 MP, f/1.6, 26mm (wide),...    $ 888   \n",
      "\n",
      "                                               IMAGE               WEB_NAME  \\\n",
      "2  /home/Scraper/images/stlouidUS/Frigidaire-8000...  stlouisapplianceoulet   \n",
      "3  /home/Scraper/images/cellularoneUS/Alcatel-1_1...            cellularone   \n",
      "4  /home/Scraper/images/cellularoneUS/iPhone-13_1...            cellularone   \n",
      "5  /home/Scraper/images/stlouidUS/Frigidaire-1200...  stlouisapplianceoulet   \n",
      "6  /home/Scraper/images/cellularoneUS/iPhone-12_1...            cellularone   \n",
      "\n",
      "           CREATE_TIME          UPDATE_TIME   SKU             ip  \n",
      "2  2022-08-28 03:00:18  2022-08-28 03:00:18  1074  144.126.129.0  \n",
      "3  2022-08-28 03:00:19  2022-08-28 03:00:19        144.126.129.0  \n",
      "4  2022-08-28 03:00:19  2022-08-28 03:00:19        144.126.129.0  \n",
      "5  2022-08-28 03:00:19  2022-08-28 03:00:19  1072  144.126.129.0  \n",
      "6  2022-08-28 03:00:19  2022-08-28 03:00:19        144.126.129.0  \n",
      "\n",
      "[5 rows x 25 columns]\n"
     ]
    }
   ],
   "source": [
    "filtro = y [~y['URL'].isin(x['URL'])] # URL en df 'y' que NO están en URL del df 'x'\n",
    "#df_2_xl(filtro , 'filtro')\n",
    "print (f'cantidad datos en filtro : {len(filtro)}')\n",
    "print(f'filtro : {filtro}')"
   ]
  },
  {
   "cell_type": "code",
   "execution_count": 23,
   "metadata": {},
   "outputs": [
    {
     "name": "stdout",
     "output_type": "stream",
     "text": [
      "cantidad datos en filtro2 : 5\n",
      "filtro2 :    ROW_ID     URL  CYCLE_ID    ID PAIS CATEGORIA SUBCATEGORIA      RETAILER  \\\n",
      "2       3    tres         0  None  USA     AUDIO  AURICULARES  OFFICE DEPOT   \n",
      "3       4  cuatro         0  None  USA     AUDIO  AURICULARES  OFFICE DEPOT   \n",
      "4       5   cinco         0  None  USA     AUDIO  AURICULARES  OFFICE DEPOT   \n",
      "5       6       6         0  None  USA     AUDIO  AURICULARES  OFFICE DEPOT   \n",
      "6       7   siete         0  None  USA     AUDIO    PARLANTES  OFFICE DEPOT   \n",
      "\n",
      "           MARCA    MODELO_RETAILER  ... SEGMENTO5  \\\n",
      "2  ALTEC LANSING         MZX5000-PP  ...             \n",
      "3       MORPHEUS             9AK364  ...             \n",
      "4           JLAB  EBGAIRSPRTRBLK124  ...             \n",
      "5          JABRA                 65  ...             \n",
      "6          ATIVA             XJ0806  ...             \n",
      "\n",
      "                                        DESCRIPTIONB  \\\n",
      "2  Altec Lansing NanoBuds 2.0 Truly Wireless Earb...   \n",
      "3  Morpheus 360 Synergy HD Wireless Noise Cancell...   \n",
      "4  JLab Audio Go Air Sport True Wireless Earbuds ...   \n",
      "5  Jabra Evolve 65 UC Mono - Mono - USB - Wireles...   \n",
      "6  Ativa™ Fabric-Covered Wireless Speaker, Black,...   \n",
      "\n",
      "                                        DESCRIPTIONF    PRICE  \\\n",
      "2  Enjoy your favorite tunes on the go, at the gy...  $ 23.99   \n",
      "3  we designed our Synergy HD Wireless Noise Canc...  $ 99.99   \n",
      "4  Make sure youre ready for a workout with these...  $ 29.99   \n",
      "5  STAY FOCUSED The Jabra EVOLVE 65 UC Mono with ...    $ 208   \n",
      "6  Take your music with you while on the go with ...   $ 8.99   \n",
      "\n",
      "                                               IMAGE     WEB_NAME  \\\n",
      "2  /home/Scraper/images/officedepotUS/Altec-Lansi...  officedepot   \n",
      "3  /home/Scraper/images/officedepotUS/Morpheus-36...  officedepot   \n",
      "4  /home/Scraper/images/officedepotUS/JLab-Audio-...  officedepot   \n",
      "5  /home/Scraper/images/officedepotUS/Jabra-Evolv...  officedepot   \n",
      "6  /home/Scraper/images/officedepotUS/Ativa-Fabri...  officedepot   \n",
      "\n",
      "           CREATE_TIME          UPDATE_TIME      SKU             ip  \n",
      "2  2022-07-19 11:59:41  2022-07-19 11:59:41  6627015  144.126.129.0  \n",
      "3  2022-07-19 11:59:43  2022-07-19 11:59:43  7044620  144.126.129.0  \n",
      "4  2022-07-19 11:59:44  2022-07-19 11:59:44  8399633  144.126.129.0  \n",
      "5  2022-07-19 11:59:44  2022-07-19 11:59:44   747449  144.126.129.0  \n",
      "6  2022-07-19 11:59:46  2022-07-19 11:59:46  3416115  144.126.129.0  \n",
      "\n",
      "[5 rows x 25 columns]\n"
     ]
    }
   ],
   "source": [
    "filtro2 = x [~x['URL'].isin(y['URL'])] # URL en df 'x' que NO están en URL del df 'y'\n",
    "#df_2_xl(filtro2 , 'filtro2')\n",
    "print (f'cantidad datos en filtro2 : {len(filtro2)}')\n",
    "print(f'filtro2 : {filtro2}')"
   ]
  }
 ],
 "metadata": {
  "kernelspec": {
   "display_name": "env",
   "language": "python",
   "name": "python3"
  },
  "language_info": {
   "codemirror_mode": {
    "name": "ipython",
    "version": 3
   },
   "file_extension": ".py",
   "mimetype": "text/x-python",
   "name": "python",
   "nbconvert_exporter": "python",
   "pygments_lexer": "ipython3",
   "version": "3.11.0"
  },
  "orig_nbformat": 4,
  "vscode": {
   "interpreter": {
    "hash": "81664b79d2e941673b6c69356040e421002391505704955d198856c840496cc9"
   }
  }
 },
 "nbformat": 4,
 "nbformat_minor": 2
}
